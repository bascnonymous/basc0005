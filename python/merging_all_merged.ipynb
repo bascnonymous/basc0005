{
 "cells": [
  {
   "cell_type": "markdown",
   "metadata": {},
   "source": [
    "All merged databases are loaded into the notebook:"
   ]
  },
  {
   "cell_type": "code",
   "execution_count": 1,
   "metadata": {},
   "outputs": [],
   "source": [
    "import pandas\n",
    "\n",
    "all_2014 = '../data/all_merged_by_year/all_databases_merged_2014.csv'\n",
    "all_2014 =  pandas.read_csv(all_2014, index_col=0)\n",
    "\n",
    "all_2015 = '../data/all_merged_by_year/all_databases_merged_2015.csv'\n",
    "all_2015 =  pandas.read_csv(all_2015, index_col=0)\n",
    "\n",
    "all_2016 = '../data/all_merged_by_year/all_databases_merged_2016.csv'\n",
    "all_2016 =  pandas.read_csv(all_2016, index_col=0)\n",
    "\n",
    "all_2017 = '../data/all_merged_by_year/all_databases_merged_2017.csv'\n",
    "all_2017 =  pandas.read_csv(all_2017, index_col=0)\n",
    "\n",
    "all_2018 = '../data/all_merged_by_year/all_databases_merged_2018.csv'\n",
    "all_2018 =  pandas.read_csv(all_2018, index_col=0)\n",
    "\n",
    "all_2019 = '../data/all_merged_by_year/all_databases_merged_2019.csv'\n",
    "all_2019 =  pandas.read_csv(all_2019, index_col=0)"
   ]
  },
  {
   "cell_type": "markdown",
   "metadata": {},
   "source": [
    "All databases are merged and sorted for clarity"
   ]
  },
  {
   "cell_type": "code",
   "execution_count": 2,
   "metadata": {},
   "outputs": [
    {
     "data": {
      "text/html": [
       "<div>\n",
       "<style scoped>\n",
       "    .dataframe tbody tr th:only-of-type {\n",
       "        vertical-align: middle;\n",
       "    }\n",
       "\n",
       "    .dataframe tbody tr th {\n",
       "        vertical-align: top;\n",
       "    }\n",
       "\n",
       "    .dataframe thead th {\n",
       "        text-align: right;\n",
       "    }\n",
       "</style>\n",
       "<table border=\"1\" class=\"dataframe\">\n",
       "  <thead>\n",
       "    <tr style=\"text-align: right;\">\n",
       "      <th></th>\n",
       "      <th>Year</th>\n",
       "      <th>Number of Undergraduate Students</th>\n",
       "      <th>GDP per Capita</th>\n",
       "      <th>Tertiary Education Enrollment</th>\n",
       "      <th>Tertiary Expenditure</th>\n",
       "      <th>GINI</th>\n",
       "      <th>HDI</th>\n",
       "      <th>Population</th>\n",
       "    </tr>\n",
       "    <tr>\n",
       "      <th>Country of domicile</th>\n",
       "      <th></th>\n",
       "      <th></th>\n",
       "      <th></th>\n",
       "      <th></th>\n",
       "      <th></th>\n",
       "      <th></th>\n",
       "      <th></th>\n",
       "      <th></th>\n",
       "    </tr>\n",
       "  </thead>\n",
       "  <tbody>\n",
       "    <tr>\n",
       "      <th>Afghanistan</th>\n",
       "      <td>2014</td>\n",
       "      <td>0</td>\n",
       "      <td>2102.384604</td>\n",
       "      <td>8.23068</td>\n",
       "      <td>12.41128</td>\n",
       "      <td>NaN</td>\n",
       "      <td>0.500</td>\n",
       "      <td>33370804.0</td>\n",
       "    </tr>\n",
       "    <tr>\n",
       "      <th>Afghanistan</th>\n",
       "      <td>2015</td>\n",
       "      <td>0</td>\n",
       "      <td>2068.265904</td>\n",
       "      <td>NaN</td>\n",
       "      <td>15.95379</td>\n",
       "      <td>NaN</td>\n",
       "      <td>0.500</td>\n",
       "      <td>34413603.0</td>\n",
       "    </tr>\n",
       "    <tr>\n",
       "      <th>Afghanistan</th>\n",
       "      <td>2016</td>\n",
       "      <td>0</td>\n",
       "      <td>2057.067978</td>\n",
       "      <td>NaN</td>\n",
       "      <td>NaN</td>\n",
       "      <td>NaN</td>\n",
       "      <td>0.502</td>\n",
       "      <td>35383028.0</td>\n",
       "    </tr>\n",
       "    <tr>\n",
       "      <th>Afghanistan</th>\n",
       "      <td>2017</td>\n",
       "      <td>0</td>\n",
       "      <td>2058.400221</td>\n",
       "      <td>NaN</td>\n",
       "      <td>NaN</td>\n",
       "      <td>NaN</td>\n",
       "      <td>0.506</td>\n",
       "      <td>36296111.0</td>\n",
       "    </tr>\n",
       "    <tr>\n",
       "      <th>Afghanistan</th>\n",
       "      <td>2018</td>\n",
       "      <td>0</td>\n",
       "      <td>2033.804389</td>\n",
       "      <td>9.68642</td>\n",
       "      <td>NaN</td>\n",
       "      <td>NaN</td>\n",
       "      <td>0.509</td>\n",
       "      <td>37171922.0</td>\n",
       "    </tr>\n",
       "  </tbody>\n",
       "</table>\n",
       "</div>"
      ],
      "text/plain": [
       "                     Year  Number of Undergraduate Students  GDP per Capita  \\\n",
       "Country of domicile                                                           \n",
       "Afghanistan          2014                                 0     2102.384604   \n",
       "Afghanistan          2015                                 0     2068.265904   \n",
       "Afghanistan          2016                                 0     2057.067978   \n",
       "Afghanistan          2017                                 0     2058.400221   \n",
       "Afghanistan          2018                                 0     2033.804389   \n",
       "\n",
       "                     Tertiary Education Enrollment  Tertiary Expenditure  \\\n",
       "Country of domicile                                                        \n",
       "Afghanistan                                8.23068              12.41128   \n",
       "Afghanistan                                    NaN              15.95379   \n",
       "Afghanistan                                    NaN                   NaN   \n",
       "Afghanistan                                    NaN                   NaN   \n",
       "Afghanistan                                9.68642                   NaN   \n",
       "\n",
       "                     GINI    HDI  Population  \n",
       "Country of domicile                           \n",
       "Afghanistan           NaN  0.500  33370804.0  \n",
       "Afghanistan           NaN  0.500  34413603.0  \n",
       "Afghanistan           NaN  0.502  35383028.0  \n",
       "Afghanistan           NaN  0.506  36296111.0  \n",
       "Afghanistan           NaN  0.509  37171922.0  "
      ]
     },
     "execution_count": 2,
     "metadata": {},
     "output_type": "execute_result"
    }
   ],
   "source": [
    "all_together = pandas.concat([all_2014, all_2015, all_2016, all_2017, all_2018, all_2019])\n",
    "all_together = all_together.sort_values(['Country of domicile', 'Year'])\n",
    "all_together.head()"
   ]
  },
  {
   "cell_type": "markdown",
   "metadata": {},
   "source": [
    "Rows with 0 undergraduate students and \"total\" country data are removed, as they are not considered relevant for the research:"
   ]
  },
  {
   "cell_type": "code",
   "execution_count": null,
   "metadata": {},
   "outputs": [],
   "source": [
    "all_together = all_together[all_together['Number of Undergraduate Students'] != 0]\n",
    "all_together = all_together[~all_together.index.str.contains(\"Total\")]"
   ]
  },
  {
   "cell_type": "markdown",
   "metadata": {},
   "source": [
    "The complete cleaned dataset is exported to .csv:"
   ]
  },
  {
   "cell_type": "code",
   "execution_count": 7,
   "metadata": {},
   "outputs": [],
   "source": [
    "all_together.to_csv(f'../completed_datasets/all_indexes.csv', index=True)"
   ]
  }
 ],
 "metadata": {
  "interpreter": {
   "hash": "aee8b7b246df8f9039afb4144a1f6fd8d2ca17a180786b69acc140d282b71a49"
  },
  "kernelspec": {
   "display_name": "Python 3.10.0 64-bit",
   "language": "python",
   "name": "python3"
  },
  "language_info": {
   "codemirror_mode": {
    "name": "ipython",
    "version": 3
   },
   "file_extension": ".py",
   "mimetype": "text/x-python",
   "name": "python",
   "nbconvert_exporter": "python",
   "pygments_lexer": "ipython3",
   "version": "3.10.0"
  },
  "orig_nbformat": 4
 },
 "nbformat": 4,
 "nbformat_minor": 2
}
