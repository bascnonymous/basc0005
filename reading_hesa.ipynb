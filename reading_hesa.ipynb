{
 "cells": [
  {
   "cell_type": "markdown",
   "metadata": {},
   "source": [
    "Import the pandas library and open the HESA database:"
   ]
  },
  {
   "cell_type": "code",
   "execution_count": 64,
   "metadata": {},
   "outputs": [],
   "source": [
    "import pandas\n",
    "year = '2018-19'\n",
    "data_path = f'/table-28/table-28-({year}).csv'\n",
    "hesa =  pandas.read_csv(data_path, index_col=0, skiprows=14)"
   ]
  },
  {
   "cell_type": "markdown",
   "metadata": {},
   "source": [
    "Find rows for full-time UCL students:"
   ]
  },
  {
   "cell_type": "code",
   "execution_count": null,
   "metadata": {},
   "outputs": [],
   "source": [
    "ucl_total = hesa.loc[hesa['HE provider'] == 'University College London']\n",
    "ucl_fulltime = ucl_total.loc[ucl_total['Mode of study'] == 'Full-time']"
   ]
  },
  {
   "cell_type": "markdown",
   "metadata": {},
   "source": [
    "Step 1 narrows down to just undergrads. Step 2 and the last step ensure only the total figure is used."
   ]
  },
  {
   "cell_type": "code",
   "execution_count": null,
   "metadata": {},
   "outputs": [],
   "source": [
    "step_1 = ucl_fulltime.loc[ucl_fulltime['Level of study'] == 'All undergraduate']\n",
    "step_2 = step_1.loc[step_1['Country of HE provider'] == 'All']\n",
    "ucl_fulltime_undergrad = step_2.loc[step_2['Region of HE provider'] == 'All']"
   ]
  },
  {
   "cell_type": "markdown",
   "metadata": {},
   "source": [
    "Code below removes all columns but 'Country of domicile' and 'Number'"
   ]
  },
  {
   "cell_type": "code",
   "execution_count": null,
   "metadata": {},
   "outputs": [],
   "source": [
    "number_by_country = ucl_fulltime_undergrad[['Country of domicile', 'Number']]"
   ]
  },
  {
   "cell_type": "code",
   "execution_count": 61,
   "metadata": {},
   "outputs": [],
   "source": [
    "number_by_country.to_csv(f'fulltime_undergrads_{year}.csv', index=False)"
   ]
  }
 ],
 "metadata": {
  "interpreter": {
   "hash": "aee8b7b246df8f9039afb4144a1f6fd8d2ca17a180786b69acc140d282b71a49"
  },
  "kernelspec": {
   "display_name": "Python 3.10.0 64-bit",
   "language": "python",
   "name": "python3"
  },
  "language_info": {
   "codemirror_mode": {
    "name": "ipython",
    "version": 3
   },
   "file_extension": ".py",
   "mimetype": "text/x-python",
   "name": "python",
   "nbconvert_exporter": "python",
   "pygments_lexer": "ipython3",
   "version": "3.10.0"
  },
  "orig_nbformat": 4
 },
 "nbformat": 4,
 "nbformat_minor": 2
}
